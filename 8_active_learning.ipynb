{
 "cells": [
  {
   "cell_type": "markdown",
   "metadata": {},
   "source": [
    "# Active Learning for Polymer Name Extraction"
   ]
  },
  {
   "cell_type": "markdown",
   "metadata": {},
   "source": [
    "In this notebook we are experimenting with finding polymer names in a list of words.  The features we will use come from a word embedding model trained on the papers from which the words come."
   ]
  },
  {
   "cell_type": "markdown",
   "metadata": {},
   "source": [
    "# Imports"
   ]
  },
  {
   "cell_type": "code",
   "execution_count": 1,
   "metadata": {
    "collapsed": true
   },
   "outputs": [],
   "source": [
    "import sys\n",
    "sys.path.append(\"/home/tando/.conda/envs/roselyne_medium/lib/python3.6/site-packages\")\n",
    "sys.path.append(\"/home/tando/active-learning\")"
   ]
  },
  {
   "cell_type": "code",
   "execution_count": 2,
   "metadata": {
    "collapsed": true
   },
   "outputs": [],
   "source": [
    "import gensim\n",
    "from matplotlib import pyplot as plt\n",
    "import numpy as np\n",
    "import re\n",
    "import spacy\n",
    "\n",
    "from sklearn.base import clone\n",
    "from sklearn.metrics import f1_score\n",
    "from sklearn.neighbors import KNeighborsClassifier\n",
    "\n",
    "%matplotlib inline"
   ]
  },
  {
   "cell_type": "code",
   "execution_count": 3,
   "metadata": {
    "collapsed": true
   },
   "outputs": [],
   "source": [
    "from active_learning.utils import perform_experiment\n",
    "import active_learning.query_strats as qs"
   ]
  },
  {
   "cell_type": "code",
   "execution_count": 4,
   "metadata": {
    "collapsed": true
   },
   "outputs": [],
   "source": [
    "%load_ext autoreload\n",
    "%autoreload 1\n",
    "%aimport active_learning"
   ]
  },
  {
   "cell_type": "markdown",
   "metadata": {},
   "source": [
    "# Parameters"
   ]
  },
  {
   "cell_type": "code",
   "execution_count": 5,
   "metadata": {
    "collapsed": true
   },
   "outputs": [],
   "source": [
    "CANDIDATES_FNAME = \"candidates/classifier_candidates.txt\"\n",
    "GROUND_TRUTH_FNAME = \"ground-truth/ground_truth_list_format.txt\"\n",
    "\n",
    "base_clf = KNeighborsClassifier()"
   ]
  },
  {
   "cell_type": "markdown",
   "metadata": {},
   "source": [
    "# Load data"
   ]
  },
  {
   "cell_type": "code",
   "execution_count": 6,
   "metadata": {
    "collapsed": true
   },
   "outputs": [],
   "source": [
    "# Load spacy for candidate processing\n",
    "nlp = spacy.load(\"en\")\n",
    "# Adding these into the vocabulary\n",
    "nlp.vocab[u\"diblock\"].is_stop = False\n",
    "nlp.vocab[u\"g/mol\"].is_stop   = False\n",
    "nlp.vocab[u\"kg/mol\"].is_stop  = False"
   ]
  },
  {
   "cell_type": "code",
   "execution_count": 7,
   "metadata": {
    "collapsed": true
   },
   "outputs": [],
   "source": [
    "# Load the pre trained gensim model\n",
    "model = gensim.models.Word2Vec.load(\"models/gensim_cbow.bin\")\n",
    "\n",
    "# Get word vectors\n",
    "word_vectors = model.wv\n",
    "# Get vocab\n",
    "vocabulary = list(model.wv.vocab)"
   ]
  },
  {
   "cell_type": "code",
   "execution_count": 8,
   "metadata": {
    "collapsed": true
   },
   "outputs": [],
   "source": [
    "def load_word_list(fname):\n",
    "    with open(fname) as reader:\n",
    "        words = reader.readlines()\n",
    "        words = [w.strip() for w in words]\n",
    "        return words\n",
    "    \n",
    "candidates = load_word_list(CANDIDATES_FNAME)\n",
    "true_polymer_names = set(load_word_list(GROUND_TRUTH_FNAME))"
   ]
  },
  {
   "cell_type": "markdown",
   "metadata": {},
   "source": [
    "# Preprocessing"
   ]
  },
  {
   "cell_type": "code",
   "execution_count": 9,
   "metadata": {
    "collapsed": true
   },
   "outputs": [],
   "source": [
    "FREQUENT_CONTEXT_WORDS = [\n",
    "    \"weight\",\"material\",\"system\",\"chains\",\"samples\", \"systems\",\"Tg\",\n",
    "    \"weights\",\"comparison\",\"chromatography\",\"Mn\",\"THF\",\"toluene\",\"GPC\",\n",
    "    \"chloroform\",\"index\",\"Column\",\"columns\",\"standards\",\"reference\",\n",
    "    \"segments\",\"polydispersity\",\"substrate\",\"block\",\"components\",\n",
    "    \"permeation\",\"component\",\"Mw\",\"bulk\",\"standard\",\"calibration\",\n",
    "    \"dynamics\",\"cross-linked\",\"cells\",\"domains\",\"segment\",\"mixtures\",\n",
    "    \"densities\",\"substrates\",\"well-defined\",\"silica\",\"SEC\",\"particles\",\n",
    "    \"compositions\",\"surfaces\",\"linear\"\n",
    "]"
   ]
  },
  {
   "cell_type": "code",
   "execution_count": 10,
   "metadata": {
    "collapsed": true
   },
   "outputs": [],
   "source": [
    "# These are polymers that could appear within spacy vocab\n",
    "COMMON_POLYS = [\n",
    "    'polyethylene', 'polyurethane', 'polypropylene', 'polyester', 'PS', \n",
    "    'polystyrene', 'PLA', 'PI', 'PET', 'PVP', 'PEG', 'cellulose', 'PAN', \n",
    "    'methyl'\n",
    "]\n",
    "COMMON_POLYS = [polymer.lower() for polymer in COMMON_POLYS] "
   ]
  },
  {
   "cell_type": "code",
   "execution_count": 11,
   "metadata": {
    "collapsed": true
   },
   "outputs": [],
   "source": [
    "# Check if a string is a number\n",
    "def is_number(n):\n",
    "    try:\n",
    "        float(n)\n",
    "        return True\n",
    "    except ValueError:\n",
    "        return False"
   ]
  },
  {
   "cell_type": "code",
   "execution_count": 12,
   "metadata": {
    "collapsed": true
   },
   "outputs": [],
   "source": [
    "# First use vectors as features\n",
    "def refine_candidate(candidate):\n",
    "    # spaCy shouldn't contain polymer names except very common ones\n",
    "    if (candidate in nlp.vocab) and candidate.lower() not in COMMON_POLYS:\n",
    "        return \"\"\n",
    " \n",
    "    # common words that appear in context of polymers without being polymers\n",
    "    if candidate in FREQUENT_CONTEXT_WORDS:\n",
    "        return \"\"\n",
    "            \n",
    "    junk = False\n",
    "    items = re.split(' |:|;|-',candidate)\n",
    "    for item in items:\n",
    "        #Removing items that are sentences within  parenthesis\n",
    "        if item != \"poly\" and \\\n",
    "           not is_number(item) and \\\n",
    "           (\"standard\" in item or (item in nlp.vocab and item not in COMMON_POLYS)):\n",
    "            junk = True\n",
    "            break\n",
    "\n",
    "    if junk is True:\n",
    "        return \"\"\n",
    "    \n",
    "    return candidate"
   ]
  },
  {
   "cell_type": "code",
   "execution_count": 13,
   "metadata": {},
   "outputs": [
    {
     "name": "stdout",
     "output_type": "stream",
     "text": [
      "Removed 7/13265\n"
     ]
    }
   ],
   "source": [
    "# preprocess candidates to remove a few junk items\n",
    "init_n_candidates = len(candidates)\n",
    "candidates = [refine_candidate(c) for c in candidates]\n",
    "candidates = list(filter(len, candidates)) # filter out empty strings\n",
    "final_n_candidates = len(candidates)\n",
    "\n",
    "print(f\"Removed {init_n_candidates-final_n_candidates}/{final_n_candidates}\")"
   ]
  },
  {
   "cell_type": "code",
   "execution_count": 14,
   "metadata": {},
   "outputs": [
    {
     "name": "stdout",
     "output_type": "stream",
     "text": [
      "Removed 13/13252\n"
     ]
    }
   ],
   "source": [
    "# Remove candidates that aren't in vocabulary since we cannot featurize them\n",
    "init_n_candidates = len(candidates)\n",
    "candidates = [c for c in candidates if c in word_vectors]\n",
    "final_n_candidates = len(candidates)\n",
    "\n",
    "print(f\"Removed {init_n_candidates-final_n_candidates}/{final_n_candidates}\")"
   ]
  },
  {
   "cell_type": "markdown",
   "metadata": {},
   "source": [
    "# Featurize"
   ]
  },
  {
   "cell_type": "code",
   "execution_count": 15,
   "metadata": {
    "collapsed": true
   },
   "outputs": [],
   "source": [
    "X = np.array([word_vectors[c] for c in candidates])\n",
    "\n",
    "y = np.array([c in true_polymer_names for c in candidates], dtype=int)"
   ]
  },
  {
   "cell_type": "markdown",
   "metadata": {},
   "source": [
    "# Run experiments"
   ]
  },
  {
   "cell_type": "markdown",
   "metadata": {},
   "source": [
    "We will try using several different query strategies.  The baseline is `random` which amounts to randomly sampling points from the input space.  There is then `uncertainty` which queries the points with the greatest marginal entropy under the current model.  `3DS` is a slightly more complicated version of encertainty that tries to balance uncertainty with representative sampling.  `AS` is very computationally intensive, and tries to find as many examples of the positive class `(y==1)` as possible.  _N.B.: `AS` takes ~2.5 hours on an m1.medium instance_"
   ]
  },
  {
   "cell_type": "code",
   "execution_count": 19,
   "metadata": {
    "collapsed": true
   },
   "outputs": [],
   "source": [
    "init_L_size = 5  # must have at least 5 data points to fit KNN(5)\n",
    "\n",
    "strats = {\n",
    "    \"random\": qs.random_sampling,\n",
    "    \"uncertainty\": qs.uncertainty_sampling,\n",
    "    \"3ds\": qs.three_ds,\n",
    "    \"AS\": qs.active_search\n",
    "}"
   ]
  },
  {
   "cell_type": "code",
   "execution_count": 20,
   "metadata": {},
   "outputs": [
    {
     "name": "stdout",
     "output_type": "stream",
     "text": [
      "Evaluating random\n",
      "Query 0 / 40\n",
      "Query 1 / 40\n",
      "Query 2 / 40\n",
      "Query 3 / 40\n",
      "Query 4 / 40\n",
      "Query 5 / 40\n",
      "Query 6 / 40\n",
      "Query 7 / 40\n",
      "Query 8 / 40\n",
      "Query 9 / 40\n",
      "Query 10 / 40\n",
      "Query 11 / 40\n",
      "Query 12 / 40\n",
      "Query 13 / 40\n",
      "Query 14 / 40\n",
      "Query 15 / 40\n"
     ]
    },
    {
     "name": "stderr",
     "output_type": "stream",
     "text": [
      "/opt/anaconda3/lib/python3.6/site-packages/sklearn/metrics/classification.py:1135: UndefinedMetricWarning: F-score is ill-defined and being set to 0.0 due to no predicted samples.\n",
      "  'precision', 'predicted', average, warn_for)\n"
     ]
    },
    {
     "name": "stdout",
     "output_type": "stream",
     "text": [
      "Query 16 / 40\n",
      "Query 17 / 40\n",
      "Query 18 / 40\n",
      "Query 19 / 40\n",
      "Query 20 / 40\n",
      "Query 21 / 40\n",
      "Query 22 / 40\n",
      "Query 23 / 40\n",
      "Query 24 / 40\n",
      "Query 25 / 40\n",
      "Query 26 / 40\n",
      "Query 27 / 40\n",
      "Query 28 / 40\n",
      "Query 29 / 40\n",
      "Query 30 / 40\n",
      "Query 31 / 40\n",
      "Query 32 / 40\n",
      "Query 33 / 40\n",
      "Query 34 / 40\n",
      "Query 35 / 40\n",
      "Query 36 / 40\n",
      "Query 37 / 40\n",
      "Query 38 / 40\n",
      "Query 39 / 40\n",
      "Evaluating uncertainty\n",
      "Query 0 / 40\n",
      "Query 1 / 40\n",
      "Query 2 / 40\n",
      "Query 3 / 40\n",
      "Query 4 / 40\n",
      "Query 5 / 40\n",
      "Query 6 / 40\n",
      "Query 7 / 40\n",
      "Query 8 / 40\n"
     ]
    },
    {
     "name": "stderr",
     "output_type": "stream",
     "text": [
      "/opt/anaconda3/lib/python3.6/site-packages/sklearn/metrics/classification.py:1135: UndefinedMetricWarning: F-score is ill-defined and being set to 0.0 due to no predicted samples.\n",
      "  'precision', 'predicted', average, warn_for)\n"
     ]
    },
    {
     "name": "stdout",
     "output_type": "stream",
     "text": [
      "Query 9 / 40\n",
      "Query 10 / 40\n",
      "Query 11 / 40\n",
      "Query 12 / 40\n",
      "Query 13 / 40\n",
      "Query 14 / 40\n",
      "Query 15 / 40\n",
      "Query 16 / 40\n",
      "Query 17 / 40\n",
      "Query 18 / 40\n",
      "Query 19 / 40\n",
      "Query 20 / 40\n",
      "Query 21 / 40\n",
      "Query 22 / 40\n",
      "Query 23 / 40\n",
      "Query 24 / 40\n",
      "Query 25 / 40\n",
      "Query 26 / 40\n",
      "Query 27 / 40\n",
      "Query 28 / 40\n",
      "Query 29 / 40\n",
      "Query 30 / 40\n",
      "Query 31 / 40\n",
      "Query 32 / 40\n",
      "Query 33 / 40\n",
      "Query 34 / 40\n",
      "Query 35 / 40\n",
      "Query 36 / 40\n",
      "Query 37 / 40\n",
      "Query 38 / 40\n",
      "Query 39 / 40\n",
      "Evaluating 3ds\n",
      "Query 0 / 40\n"
     ]
    },
    {
     "name": "stderr",
     "output_type": "stream",
     "text": [
      "/opt/anaconda3/lib/python3.6/site-packages/sklearn/metrics/classification.py:1135: UndefinedMetricWarning: F-score is ill-defined and being set to 0.0 due to no predicted samples.\n",
      "  'precision', 'predicted', average, warn_for)\n",
      "/home/tando/active-learning/active_learning/query_strats/three_ds.py:47: RuntimeWarning: divide by zero encountered in log\n",
      "  log_probs = np.log(probs)\n",
      "/home/tando/active-learning/active_learning/query_strats/three_ds.py:58: RuntimeWarning: invalid value encountered in multiply\n",
      "  x = U[np.argmax((1-eps) * (1-distances) + eps * densities)]\n"
     ]
    },
    {
     "name": "stdout",
     "output_type": "stream",
     "text": [
      "Query 1 / 40\n",
      "Query 2 / 40\n",
      "Query 3 / 40\n",
      "Query 4 / 40\n",
      "Query 5 / 40\n",
      "Query 6 / 40\n",
      "Query 7 / 40\n",
      "Query 8 / 40\n",
      "Query 9 / 40\n",
      "Query 10 / 40\n",
      "Query 11 / 40\n",
      "Query 12 / 40\n",
      "Query 13 / 40\n",
      "Query 14 / 40\n",
      "Query 15 / 40\n",
      "Query 16 / 40\n",
      "Query 17 / 40\n",
      "Query 18 / 40\n",
      "Query 19 / 40\n",
      "Query 20 / 40\n",
      "Query 21 / 40\n",
      "Query 22 / 40\n",
      "Query 23 / 40\n",
      "Query 24 / 40\n",
      "Query 25 / 40\n",
      "Query 26 / 40\n",
      "Query 27 / 40\n",
      "Query 28 / 40\n",
      "Query 29 / 40\n",
      "Query 30 / 40\n",
      "Query 31 / 40\n",
      "Query 32 / 40\n",
      "Query 33 / 40\n",
      "Query 34 / 40\n",
      "Query 35 / 40\n",
      "Query 36 / 40\n",
      "Query 37 / 40\n",
      "Query 38 / 40\n",
      "Query 39 / 40\n",
      "Evaluating AS\n",
      "Query 0 / 40\n"
     ]
    },
    {
     "name": "stderr",
     "output_type": "stream",
     "text": [
      "/opt/anaconda3/lib/python3.6/site-packages/sklearn/metrics/classification.py:1135: UndefinedMetricWarning: F-score is ill-defined and being set to 0.0 due to no predicted samples.\n",
      "  'precision', 'predicted', average, warn_for)\n"
     ]
    },
    {
     "name": "stdout",
     "output_type": "stream",
     "text": [
      "Query 1 / 40\n"
     ]
    },
    {
     "name": "stderr",
     "output_type": "stream",
     "text": [
      "/opt/anaconda3/lib/python3.6/site-packages/sklearn/metrics/classification.py:1135: UndefinedMetricWarning: F-score is ill-defined and being set to 0.0 due to no predicted samples.\n",
      "  'precision', 'predicted', average, warn_for)\n"
     ]
    },
    {
     "name": "stdout",
     "output_type": "stream",
     "text": [
      "Query 2 / 40\n"
     ]
    },
    {
     "name": "stderr",
     "output_type": "stream",
     "text": [
      "/opt/anaconda3/lib/python3.6/site-packages/sklearn/metrics/classification.py:1135: UndefinedMetricWarning: F-score is ill-defined and being set to 0.0 due to no predicted samples.\n",
      "  'precision', 'predicted', average, warn_for)\n"
     ]
    },
    {
     "name": "stdout",
     "output_type": "stream",
     "text": [
      "Query 3 / 40\n"
     ]
    },
    {
     "name": "stderr",
     "output_type": "stream",
     "text": [
      "/opt/anaconda3/lib/python3.6/site-packages/sklearn/metrics/classification.py:1135: UndefinedMetricWarning: F-score is ill-defined and being set to 0.0 due to no predicted samples.\n",
      "  'precision', 'predicted', average, warn_for)\n"
     ]
    },
    {
     "name": "stdout",
     "output_type": "stream",
     "text": [
      "Query 4 / 40\n"
     ]
    },
    {
     "name": "stderr",
     "output_type": "stream",
     "text": [
      "/opt/anaconda3/lib/python3.6/site-packages/sklearn/metrics/classification.py:1135: UndefinedMetricWarning: F-score is ill-defined and being set to 0.0 due to no predicted samples.\n",
      "  'precision', 'predicted', average, warn_for)\n"
     ]
    },
    {
     "name": "stdout",
     "output_type": "stream",
     "text": [
      "Query 5 / 40\n",
      "Query 6 / 40\n",
      "Query 7 / 40\n",
      "Query 8 / 40\n",
      "Query 9 / 40\n",
      "Query 10 / 40\n",
      "Query 11 / 40\n",
      "Query 12 / 40\n",
      "Query 13 / 40\n",
      "Query 14 / 40\n",
      "Query 15 / 40\n",
      "Query 16 / 40\n",
      "Query 17 / 40\n",
      "Query 18 / 40\n",
      "Query 19 / 40\n",
      "Query 20 / 40\n",
      "Query 21 / 40\n",
      "Query 22 / 40\n",
      "Query 23 / 40\n",
      "Query 24 / 40\n",
      "Query 25 / 40\n",
      "Query 26 / 40\n",
      "Query 27 / 40\n",
      "Query 28 / 40\n",
      "Query 29 / 40\n",
      "Query 30 / 40\n",
      "Query 31 / 40\n",
      "Query 32 / 40\n",
      "Query 33 / 40\n",
      "Query 34 / 40\n",
      "Query 35 / 40\n",
      "Query 36 / 40\n",
      "Query 37 / 40\n",
      "Query 38 / 40\n",
      "Query 39 / 40\n"
     ]
    }
   ],
   "source": [
    "all_experiment_data = {}\n",
    "for strat_name, strat in strats.items():\n",
    "    print(\"Evaluating\", strat_name)\n",
    "    clf = clone(base_clf)\n",
    "    experiment_data = perform_experiment(\n",
    "        X, y, \n",
    "        base_estimator=clf, \n",
    "        init_L_size=init_L_size, \n",
    "        query_strat=strat,\n",
    "        score_fns={\"f1\": f1_score},\n",
    "        random_state=0,\n",
    "        batch_size=1\n",
    "    )\n",
    "    all_experiment_data[strat_name] = experiment_data"
   ]
  },
  {
   "cell_type": "markdown",
   "metadata": {},
   "source": [
    "# Plots"
   ]
  },
  {
   "cell_type": "markdown",
   "metadata": {},
   "source": [
    "Plots a couple of different measures of success over time."
   ]
  },
  {
   "cell_type": "code",
   "execution_count": 23,
   "metadata": {},
   "outputs": [
    {
     "data": {
      "image/png": "[encoded data removed]",
      "text/plain": [
       "<matplotlib.figure.Figure at 0x7f923d01e898>"
      ]
     },
     "metadata": {},
     "output_type": "display_data"
    }
   ],
   "source": [
    "for name, exp_data in all_experiment_data.items():\n",
    "    f1_scores = exp_data[\"f1\"]\n",
    "    x = np.arange(len(f1_scores))\n",
    "    plt.plot(x, f1_scores, label=name)\n",
    "    \n",
    "plt.title(\"F1 Score over time\")\n",
    "plt.legend()\n",
    "\n",
    "plt.savefig(\"F1_score.png\")"
   ]
  },
  {
   "cell_type": "markdown",
   "metadata": {},
   "source": [
    "This is a little surprising that 3ds fails so spectacularly.  Random makes sense because the ratio of targets/non targets is so small, we could easily smaple 40 random elements without getting a single target, meaning our F1 is undefined (= 0.0)."
   ]
  },
  {
   "cell_type": "code",
   "execution_count": 24,
   "metadata": {},
   "outputs": [
    {
     "data": {
      "image/png": "[encoded data removed]",
      "text/plain": [
       "<matplotlib.figure.Figure at 0x7f923b67b2b0>"
      ]
     },
     "metadata": {},
     "output_type": "display_data"
    }
   ],
   "source": [
    "for name, exp_data in all_experiment_data.items():\n",
    "    n_targets = exp_data[\"history\"]\n",
    "    x = np.arange(len(n_targets))\n",
    "    plt.plot(x, n_targets, label=name)\n",
    "    \n",
    "plt.title(\"# targets over time\")\n",
    "plt.legend()\n",
    "\n",
    "plt.savefig(\"num_targets.png\")"
   ]
  },
  {
   "cell_type": "markdown",
   "metadata": {},
   "source": [
    "This is even more surprising!  We see a good rate of target acquisition using simple uncertainty sampling.  This means that a lot of the target polymers are very uncertain in the model.  Does this mean that the decision boundary is really bad?  Maybe actually many of the polymers are somehow outliers?"
   ]
  },
  {
   "cell_type": "code",
   "execution_count": 35,
   "metadata": {},
   "outputs": [
    {
     "name": "stdout",
     "output_type": "stream",
     "text": [
      "0 Rigorous\n",
      "0 9,9-dimethylfluoren-2-boronic\n",
      "1 PFS\n",
      "0 nonionic\n",
      "0 polycarbonate\n",
      "1 PDMAEMA\n",
      "1 PDMS\n",
      "1 P3HT\n",
      "1 PNIPAM\n",
      "0 thermosets\n",
      "1 PMMA\n",
      "1 PtBA\n",
      "1 PAA\n",
      "1 PE\n",
      "0 thermoresponsive\n",
      "1 PLLA\n",
      "0 immiscible\n",
      "1 PVP\n",
      "1 poly(methyl methacrylate)\n",
      "1 PP\n",
      "1 polyethylene\n",
      "1 polypropylene\n",
      "0 polyimide\n",
      "0 deuterated\n",
      "1 cellulose\n",
      "0 oligomers\n",
      "0 ionomers\n",
      "1 PI\n",
      "0 crystallinity\n",
      "0 surfactant\n",
      "1 PEO\n",
      "0 lamellar\n",
      "1 PCL\n",
      "1 PEG\n",
      "0 crystallization\n",
      "0 LC\n",
      "0 crystallized\n",
      "0 miscible\n",
      "0 copolymer\n",
      "0 isotactic\n"
     ]
    }
   ],
   "source": [
    "from sklearn.model_selection import train_test_split\n",
    "cand_arr = np.array(candidates)\n",
    "cand_train, cand_test, y_train, y_test = train_test_split(cand_arr, y, random_state=0)\n",
    "\n",
    "exp_data = all_experiment_data[\"AS\"]\n",
    "queries = np.concatenate(exp_data[\"queries\"])\n",
    "\n",
    "for word, label in zip(cand_train[queries], y_train[queries]):\n",
    "    print(label, word)"
   ]
  },
  {
   "cell_type": "markdown",
   "metadata": {},
   "source": [
    "# Outlier Detection"
   ]
  },
  {
   "cell_type": "code",
   "execution_count": 36,
   "metadata": {
    "collapsed": true
   },
   "outputs": [],
   "source": [
    "from sklearn.covariance import EllipticEnvelope\n",
    "from sklearn.ensemble import IsolationForest\n",
    "from sklearn.neighbors import LocalOutlierFactor\n",
    "from sklearn.svm import OneClassSVM\n",
    "\n",
    "from sklearn.metrics import f1_score, precision_score, recall_score"
   ]
  },
  {
   "cell_type": "code",
   "execution_count": 37,
   "metadata": {
    "collapsed": true
   },
   "outputs": [],
   "source": [
    "outlier_fraction = (np.sum(y==1) / len(y)) / 4\n",
    "\n",
    "detectors = {\n",
    "    \"Robust covariance\": EllipticEnvelope(contamination=outlier_fraction),\n",
    "    \"Isolation Forest\": IsolationForest(contamination=outlier_fraction),\n",
    "    \"Local Outlier Factor\": LocalOutlierFactor(n_neighbors=35, contamination=outlier_fraction)\n",
    "}"
   ]
  },
  {
   "cell_type": "code",
   "execution_count": 40,
   "metadata": {},
   "outputs": [
    {
     "name": "stdout",
     "output_type": "stream",
     "text": [
      "Robust covariance\n",
      "Isolation Forest\n",
      "Local Outlier Factor\n"
     ]
    },
    {
     "data": {
      "text/html": [
       "<div>\n",
       "<style scoped>\n",
       "    .dataframe tbody tr th:only-of-type {\n",
       "        vertical-align: middle;\n",
       "    }\n",
       "\n",
       "    .dataframe tbody tr th {\n",
       "        vertical-align: top;\n",
       "    }\n",
       "\n",
       "    .dataframe thead th {\n",
       "        text-align: right;\n",
       "    }\n",
       "</style>\n",
       "<table border=\"1\" class=\"dataframe\">\n",
       "  <thead>\n",
       "    <tr style=\"text-align: right;\">\n",
       "      <th></th>\n",
       "      <th>score</th>\n",
       "      <th>n_outliers</th>\n",
       "      <th>f1</th>\n",
       "    </tr>\n",
       "  </thead>\n",
       "  <tbody>\n",
       "    <tr>\n",
       "      <th>Robust covariance</th>\n",
       "      <td>387.0</td>\n",
       "      <td>82.0</td>\n",
       "      <td>0.049140</td>\n",
       "    </tr>\n",
       "    <tr>\n",
       "      <th>Isolation Forest</th>\n",
       "      <td>393.0</td>\n",
       "      <td>82.0</td>\n",
       "      <td>0.034398</td>\n",
       "    </tr>\n",
       "    <tr>\n",
       "      <th>Local Outlier Factor</th>\n",
       "      <td>405.0</td>\n",
       "      <td>82.0</td>\n",
       "      <td>0.004914</td>\n",
       "    </tr>\n",
       "  </tbody>\n",
       "</table>\n",
       "</div>"
      ],
      "text/plain": [
       "                      score  n_outliers        f1\n",
       "Robust covariance     387.0        82.0  0.049140\n",
       "Isolation Forest      393.0        82.0  0.034398\n",
       "Local Outlier Factor  405.0        82.0  0.004914"
      ]
     },
     "execution_count": 40,
     "metadata": {},
     "output_type": "execute_result"
    }
   ],
   "source": [
    "outlier_results = pd.DataFrame(columns=[\"score\", \"n_outliers\", \"f1\"])\n",
    "\n",
    "ground_truth = y.copy()\n",
    "\n",
    "for name, clf in detectors.items():\n",
    "    print(name)\n",
    "    if name == \"Local Outlier Factor\":\n",
    "        outlier_labels = clf.fit_predict(X)\n",
    "    else:\n",
    "        clf.fit(X)\n",
    "        outlier_labels = clf.predict(X)\n",
    "        \n",
    "    outlier_labels[outlier_labels==1] = 0\n",
    "    outlier_labels[outlier_labels==-1] = 1\n",
    "    \n",
    "    outlier_results.loc[name] = {\n",
    "        \"score\": np.sum(ground_truth != outlier_labels),\n",
    "        \"n_outliers\": np.sum(outlier_labels == 1),\n",
    "        \"f1\": f1_score(ground_truth, outlier_labels)\n",
    "    }\n",
    "    \n",
    "outlier_results"
   ]
  },
  {
   "cell_type": "markdown",
   "metadata": {},
   "source": [
    "# Sanity model selection"
   ]
  },
  {
   "cell_type": "code",
   "execution_count": 39,
   "metadata": {
    "collapsed": true
   },
   "outputs": [],
   "source": [
    "import pandas as pd\n",
    "\n",
    "from sklearn.model_selection import train_test_split\n",
    "from sklearn.metrics import f1_score, precision_score, accuracy_score, recall_score\n",
    "\n",
    "from sklearn.ensemble import GradientBoostingClassifier, RandomForestClassifier\n",
    "from sklearn.linear_model import LogisticRegression\n",
    "from sklearn.naive_bayes import GaussianNB\n",
    "from sklearn.neighbors import KNeighborsClassifier\n",
    "from sklearn.neural_network import MLPClassifier\n",
    "from sklearn.svm import LinearSVC, SVC\n",
    "from sklearn.tree import DecisionTreeClassifier\n",
    "\n",
    "X_train, X_test, y_train, y_test = train_test_split(X, y)"
   ]
  },
  {
   "cell_type": "code",
   "execution_count": 49,
   "metadata": {},
   "outputs": [
    {
     "ename": "NameError",
     "evalue": "name 'VotingClassifier' is not defined",
     "output_type": "error",
     "traceback": [
      "\u001b[0;31m---------------------------------------------------------------------------\u001b[0m",
      "\u001b[0;31mNameError\u001b[0m                                 Traceback (most recent call last)",
      "\u001b[0;32m<ipython-input-49-29920cbacccf>\u001b[0m in \u001b[0;36m<module>\u001b[0;34m()\u001b[0m\n\u001b[1;32m      9\u001b[0m     \u001b[0;34m\"Naive Bayes\"\u001b[0m\u001b[0;34m:\u001b[0m \u001b[0mGaussianNB\u001b[0m\u001b[0;34m(\u001b[0m\u001b[0;34m)\u001b[0m\u001b[0;34m,\u001b[0m\u001b[0;34m\u001b[0m\u001b[0m\n\u001b[1;32m     10\u001b[0m     \u001b[0;34m\"Random Forest\"\u001b[0m\u001b[0;34m:\u001b[0m \u001b[0mRandomForestClassifier\u001b[0m\u001b[0;34m(\u001b[0m\u001b[0mn_estimators\u001b[0m\u001b[0;34m=\u001b[0m\u001b[0;36m500\u001b[0m\u001b[0;34m)\u001b[0m\u001b[0;34m,\u001b[0m\u001b[0;34m\u001b[0m\u001b[0m\n\u001b[0;32m---> 11\u001b[0;31m     \u001b[0;34m\"Ando\"\u001b[0m\u001b[0;34m:\u001b[0m \u001b[0mVotingClassifier\u001b[0m\u001b[0;34m(\u001b[0m\u001b[0;34m[\u001b[0m\u001b[0mBirch\u001b[0m\u001b[0;34m(\u001b[0m\u001b[0mn_clusters\u001b[0m\u001b[0;34m=\u001b[0m\u001b[0;36m2\u001b[0m\u001b[0;34m)\u001b[0m\u001b[0;34m,\u001b[0m \u001b[0mKNeighborsClassifier\u001b[0m\u001b[0;34m(\u001b[0m\u001b[0mweights\u001b[0m\u001b[0;34m=\u001b[0m\u001b[0;34m\"distance\"\u001b[0m\u001b[0;34m)\u001b[0m\u001b[0;34m]\u001b[0m\u001b[0;34m)\u001b[0m\u001b[0;34m\u001b[0m\u001b[0m\n\u001b[0m\u001b[1;32m     12\u001b[0m }\n",
      "\u001b[0;31mNameError\u001b[0m: name 'VotingClassifier' is not defined"
     ]
    }
   ],
   "source": [
    "classifiers = {\n",
    "    \"Decision Tree\": DecisionTreeClassifier(),\n",
    "    \"Gradient Boosting Classifier\": GradientBoostingClassifier(n_estimators=500),\n",
    "    \"KNN(uniform)\": KNeighborsClassifier(weights=\"uniform\"),\n",
    "    \"KNN(distance)\": KNeighborsClassifier(weights=\"distance\"),\n",
    "    \"Logistic Regression\": LogisticRegression(),\n",
    "    \"Linear SVM\": LinearSVC(),\n",
    "    \"Neural Net\": MLPClassifier(alpha = 1),\n",
    "    \"Naive Bayes\": GaussianNB(),    \n",
    "    \"Random Forest\": RandomForestClassifier(n_estimators=500)\n",
    "}"
   ]
  },
  {
   "cell_type": "code",
   "execution_count": 18,
   "metadata": {},
   "outputs": [
    {
     "name": "stdout",
     "output_type": "stream",
     "text": [
      "Decision Tree\n",
      "Gradient Boosting Classifier\n",
      "KNN(uniform)\n",
      "KNN(distance)\n",
      "Logistic Regression\n",
      "Linear SVM\n",
      "Neural Net\n",
      "Naive Bayes\n",
      "Random Forest\n",
      "SVC\n"
     ]
    },
    {
     "data": {
      "text/html": [
       "<div>\n",
       "<style>\n",
       "    .dataframe thead tr:only-child th {\n",
       "        text-align: right;\n",
       "    }\n",
       "\n",
       "    .dataframe thead th {\n",
       "        text-align: left;\n",
       "    }\n",
       "\n",
       "    .dataframe tbody tr th {\n",
       "        vertical-align: top;\n",
       "    }\n",
       "</style>\n",
       "<table border=\"1\" class=\"dataframe\">\n",
       "  <thead>\n",
       "    <tr style=\"text-align: right;\">\n",
       "      <th></th>\n",
       "      <th>F1</th>\n",
       "      <th>precision</th>\n",
       "      <th>recall</th>\n",
       "      <th>accuracy</th>\n",
       "    </tr>\n",
       "  </thead>\n",
       "  <tbody>\n",
       "    <tr>\n",
       "      <th>Decision Tree</th>\n",
       "      <td>0.181818</td>\n",
       "      <td>0.162393</td>\n",
       "      <td>0.206522</td>\n",
       "      <td>0.948385</td>\n",
       "    </tr>\n",
       "    <tr>\n",
       "      <th>Gradient Boosting Classifier</th>\n",
       "      <td>0.180180</td>\n",
       "      <td>0.526316</td>\n",
       "      <td>0.108696</td>\n",
       "      <td>0.972532</td>\n",
       "    </tr>\n",
       "    <tr>\n",
       "      <th>KNN(uniform)</th>\n",
       "      <td>0.220183</td>\n",
       "      <td>0.705882</td>\n",
       "      <td>0.130435</td>\n",
       "      <td>0.974343</td>\n",
       "    </tr>\n",
       "    <tr>\n",
       "      <th>KNN(distance)</th>\n",
       "      <td>0.252252</td>\n",
       "      <td>0.736842</td>\n",
       "      <td>0.152174</td>\n",
       "      <td>0.974947</td>\n",
       "    </tr>\n",
       "    <tr>\n",
       "      <th>Logistic Regression</th>\n",
       "      <td>0.114286</td>\n",
       "      <td>0.461538</td>\n",
       "      <td>0.065217</td>\n",
       "      <td>0.971929</td>\n",
       "    </tr>\n",
       "    <tr>\n",
       "      <th>Linear SVM</th>\n",
       "      <td>0.115385</td>\n",
       "      <td>0.500000</td>\n",
       "      <td>0.065217</td>\n",
       "      <td>0.972231</td>\n",
       "    </tr>\n",
       "    <tr>\n",
       "      <th>Neural Net</th>\n",
       "      <td>0.082474</td>\n",
       "      <td>0.800000</td>\n",
       "      <td>0.043478</td>\n",
       "      <td>0.973136</td>\n",
       "    </tr>\n",
       "    <tr>\n",
       "      <th>Naive Bayes</th>\n",
       "      <td>0.051948</td>\n",
       "      <td>0.034130</td>\n",
       "      <td>0.108696</td>\n",
       "      <td>0.889828</td>\n",
       "    </tr>\n",
       "    <tr>\n",
       "      <th>Random Forest</th>\n",
       "      <td>0.101010</td>\n",
       "      <td>0.714286</td>\n",
       "      <td>0.054348</td>\n",
       "      <td>0.973136</td>\n",
       "    </tr>\n",
       "    <tr>\n",
       "      <th>SVC</th>\n",
       "      <td>0.062500</td>\n",
       "      <td>0.750000</td>\n",
       "      <td>0.032609</td>\n",
       "      <td>0.972834</td>\n",
       "    </tr>\n",
       "  </tbody>\n",
       "</table>\n",
       "</div>"
      ],
      "text/plain": [
       "                                    F1  precision    recall  accuracy\n",
       "Decision Tree                 0.181818   0.162393  0.206522  0.948385\n",
       "Gradient Boosting Classifier  0.180180   0.526316  0.108696  0.972532\n",
       "KNN(uniform)                  0.220183   0.705882  0.130435  0.974343\n",
       "KNN(distance)                 0.252252   0.736842  0.152174  0.974947\n",
       "Logistic Regression           0.114286   0.461538  0.065217  0.971929\n",
       "Linear SVM                    0.115385   0.500000  0.065217  0.972231\n",
       "Neural Net                    0.082474   0.800000  0.043478  0.973136\n",
       "Naive Bayes                   0.051948   0.034130  0.108696  0.889828\n",
       "Random Forest                 0.101010   0.714286  0.054348  0.973136\n",
       "SVC                           0.062500   0.750000  0.032609  0.972834"
      ]
     },
     "execution_count": 18,
     "metadata": {},
     "output_type": "execute_result"
    }
   ],
   "source": [
    "clf_results = pd.DataFrame(columns=[\"F1\", \"precision\", \"recall\", \"accuracy\"])\n",
    "\n",
    "for name, clf in classifiers.items():\n",
    "    print(name)\n",
    "    clf.fit(X_train, y_train)\n",
    "    y_pred = clf.predict(X_test)\n",
    "    \n",
    "    \n",
    "    results.loc[name] = {\n",
    "        \"F1\": f1_score(y_test, y_pred),\n",
    "        \"precision\": precision_score(y_test, y_pred),\n",
    "        \"accuracy\": accuracy_score(y_test, y_pred),\n",
    "        \"recall\": recall_score(y_test, y_pred)\n",
    "    }\n",
    "    \n",
    "results"
   ]
  },
  {
   "cell_type": "markdown",
   "metadata": {
    "collapsed": true
   },
   "source": [
    "# Clustering Tests"
   ]
  },
  {
   "cell_type": "code",
   "execution_count": 29,
   "metadata": {
    "collapsed": true
   },
   "outputs": [],
   "source": [
    "from sklearn.cluster import KMeans, AgglomerativeClustering, SpectralClustering, DBSCAN, Birch\n",
    "from sklearn.metrics import silhouette_score"
   ]
  },
  {
   "cell_type": "code",
   "execution_count": 58,
   "metadata": {
    "collapsed": true
   },
   "outputs": [],
   "source": [
    "clusterers = {\n",
    "    \"KMeans\": KMeans(n_clusters=2),\n",
    "    \"Birch+KMeans\": Birch(n_clusters=KMeans(n_clusters=2)),\n",
    "    \"Birch\": Birch(n_clusters=2)\n",
    "}"
   ]
  },
  {
   "cell_type": "code",
   "execution_count": 59,
   "metadata": {},
   "outputs": [
    {
     "name": "stdout",
     "output_type": "stream",
     "text": [
      "KMeans\n",
      "Birch+KMeans\n",
      "Birch\n"
     ]
    },
    {
     "data": {
      "text/html": [
       "<div>\n",
       "<style>\n",
       "    .dataframe thead tr:only-child th {\n",
       "        text-align: right;\n",
       "    }\n",
       "\n",
       "    .dataframe thead th {\n",
       "        text-align: left;\n",
       "    }\n",
       "\n",
       "    .dataframe tbody tr th {\n",
       "        vertical-align: top;\n",
       "    }\n",
       "</style>\n",
       "<table border=\"1\" class=\"dataframe\">\n",
       "  <thead>\n",
       "    <tr style=\"text-align: right;\">\n",
       "      <th></th>\n",
       "      <th>silhouette</th>\n",
       "      <th>0</th>\n",
       "      <th>1</th>\n",
       "    </tr>\n",
       "  </thead>\n",
       "  <tbody>\n",
       "    <tr>\n",
       "      <th>KMeans</th>\n",
       "      <td>0.708610</td>\n",
       "      <td>732.0</td>\n",
       "      <td>12520.0</td>\n",
       "    </tr>\n",
       "    <tr>\n",
       "      <th>Birch+KMeans</th>\n",
       "      <td>0.802549</td>\n",
       "      <td>13019.0</td>\n",
       "      <td>233.0</td>\n",
       "    </tr>\n",
       "    <tr>\n",
       "      <th>Birch</th>\n",
       "      <td>0.867393</td>\n",
       "      <td>13213.0</td>\n",
       "      <td>39.0</td>\n",
       "    </tr>\n",
       "  </tbody>\n",
       "</table>\n",
       "</div>"
      ],
      "text/plain": [
       "              silhouette        0        1\n",
       "KMeans          0.708610    732.0  12520.0\n",
       "Birch+KMeans    0.802549  13019.0    233.0\n",
       "Birch           0.867393  13213.0     39.0"
      ]
     },
     "execution_count": 59,
     "metadata": {},
     "output_type": "execute_result"
    }
   ],
   "source": [
    "clst_results = pd.DataFrame(columns=[\"silhouette\", \"0\", \"1\"])\n",
    "for name, clst in clusterers.items():\n",
    "    print(name)\n",
    "    \n",
    "#     clst.fit(X)\n",
    "    \n",
    "    y_pred = clst.fit_predict(X)\n",
    "    \n",
    "    clst_results.loc[name] = {\n",
    "        \"silhouette\": silhouette_score(X, y_pred),\n",
    "        \"0\": np.sum(y_pred==0),\n",
    "        \"1\": np.sum(y_pred==1)\n",
    "    }\n",
    "    \n",
    "clst_results"
   ]
  },
  {
   "cell_type": "code",
   "execution_count": 78,
   "metadata": {},
   "outputs": [
    {
     "name": "stdout",
     "output_type": "stream",
     "text": [
      "F1 Augmented: 0.2247191011235955\n",
      "F1 UNaugmented: 0.2247191011235955\n"
     ]
    }
   ],
   "source": [
    "clusterer = Birch(n_clusters=KMeans(n_clusters=2))\n",
    "clusterer.fit(X)\n",
    "pred_labels = clusterer.predict(X)\n",
    "pred_labels = pred_labels.reshape(-1, 1)\n",
    "\n",
    "X_aug = np.hstack([X, pred_labels])\n",
    "\n",
    "X_aug_train, X_aug_test, X_unaug_train, X_unaug_test, y_aug_train, y_aug_test = train_test_split(X_aug, X, y)\n",
    "\n",
    "# clf = KNeighborsClassifier(weights=\"distance\")\n",
    "clf = GradientBoostingClassifier(n_estimators=500)\n",
    "clf.fit(X_aug_train, y_aug_train)\n",
    "y_aug_pred = clf.predict(X_aug_test)\n",
    "print(\"F1 Augmented:\", f1_score(y_aug_test, y_aug_pred))\n",
    "\n",
    "# clf = KNeighborsClassifier(weights=\"distance\")\n",
    "clf = GradientBoostingClassifier(n_estimators=500)\n",
    "clf.fit(X_unaug_train, y_aug_train)\n",
    "y_unaug_pred = clf.predict(X_unaug_test)\n",
    "print(\"F1 Unaugmented:\", f1_score(y_aug_test, y_unaug_pred))"
   ]
  },
  {
   "cell_type": "code",
   "execution_count": 67,
   "metadata": {},
   "outputs": [
    {
     "data": {
      "text/plain": [
       "(9939, 101)"
      ]
     },
     "execution_count": 67,
     "metadata": {},
     "output_type": "execute_result"
    }
   ],
   "source": [
    "X_aug_train.shape"
   ]
  },
  {
   "cell_type": "code",
   "execution_count": 77,
   "metadata": {},
   "outputs": [
    {
     "data": {
      "text/plain": [
       "325"
      ]
     },
     "execution_count": 77,
     "metadata": {},
     "output_type": "execute_result"
    }
   ],
   "source": [
    "y[(pred_labels.reshape(-1) != y)].sum()"
   ]
  },
  {
   "cell_type": "code",
   "execution_count": null,
   "metadata": {
    "collapsed": true
   },
   "outputs": [],
   "source": []
  }
 ],
 "metadata": {
  "kernelspec": {
   "display_name": "Python 3",
   "language": "python",
   "name": "python3"
  },
  "language_info": {
   "codemirror_mode": {
    "name": "ipython",
    "version": 3
   },
   "file_extension": ".py",
   "mimetype": "text/x-python",
   "name": "python",
   "nbconvert_exporter": "python",
   "pygments_lexer": "ipython3",
   "version": "3.6.1"
  }
 },
 "nbformat": 4,
 "nbformat_minor": 2
}
