{
 "cells": [
  {
   "cell_type": "code",
   "execution_count": null,
   "metadata": {},
   "outputs": [
    {
     "name": "stdout",
     "output_type": "stream",
     "text": [
      "The autoreload extension is already loaded. To reload it, use:\n",
      "  %reload_ext autoreload\n"
     ]
    }
   ],
   "source": [
    "from itertools import cycle\n",
    "import warnings\n",
    "warnings.filterwarnings(action='ignore', category=RuntimeWarning)\n",
    "\n",
    "from matplotlib import pyplot as plt\n",
    "import numpy as np\n",
    "\n",
    "from sklearn.base import clone\n",
    "from sklearn.datasets import load_breast_cancer, load_digits\n",
    "\n",
    "from sklearn.model_selection import train_test_split\n",
    "from sklearn.neighbors import KNeighborsClassifier\n",
    "from sklearn.svm import SVC\n",
    "\n",
    "import active_learning\n",
    "from active_learning.active_learning import _actively_learn as actively_learn\n",
    "from active_learning.utils import *\n",
    "from active_learning.query_strats import random_sampling, uncertainty_sampling, active_search\n",
    "\n",
    "%matplotlib inline\n",
    "%load_ext autoreload\n",
    "%autoreload 2\n",
    "%aimport make_models\n",
    "%aimport active_learning"
   ]
  },
  {
   "cell_type": "markdown",
   "metadata": {},
   "source": [
    "# Load toy data"
   ]
  },
  {
   "cell_type": "code",
   "execution_count": 146,
   "metadata": {},
   "outputs": [],
   "source": [
    "# we'll turn this into a binary classification task looking for the twos\n",
    "X, y = load_digits(return_X_y=True)\n",
    "y = (y == 2).astype(int)"
   ]
  },
  {
   "cell_type": "markdown",
   "metadata": {},
   "source": [
    "# Training Models"
   ]
  },
  {
   "cell_type": "code",
   "execution_count": 147,
   "metadata": {},
   "outputs": [],
   "source": [
    "# use KNN with 5 neighbors as base classifier to actively learn\n",
    "base_clf = KNeighborsClassifier()\n",
    "\n",
    "# Make 30 queries\n",
    "train_size = 30"
   ]
  },
  {
   "cell_type": "markdown",
   "metadata": {},
   "source": [
    "### Random Sampling"
   ]
  },
  {
   "cell_type": "code",
   "execution_count": 148,
   "metadata": {},
   "outputs": [
    {
     "name": "stdout",
     "output_type": "stream",
     "text": [
      "Query 0 / 30\n",
      "Query 1 / 30\n",
      "Query 2 / 30\n",
      "Query 3 / 30\n",
      "Query 4 / 30\n",
      "Query 5 / 30\n",
      "Query 6 / 30\n",
      "Query 7 / 30\n",
      "Query 8 / 30\n",
      "Query 9 / 30\n",
      "Query 10 / 30\n",
      "Query 11 / 30\n",
      "Query 12 / 30\n",
      "Query 13 / 30\n",
      "Query 14 / 30\n",
      "Query 15 / 30\n",
      "Query 16 / 30\n",
      "Query 17 / 30\n",
      "Query 18 / 30\n",
      "Query 19 / 30\n",
      "Query 20 / 30\n",
      "Query 21 / 30\n",
      "Query 22 / 30\n",
      "Query 23 / 30\n",
      "Query 24 / 30\n",
      "Query 25 / 30\n",
      "Query 26 / 30\n",
      "Query 27 / 30\n",
      "Query 28 / 30\n",
      "Query 29 / 30\n"
     ]
    }
   ],
   "source": [
    "# I'm setting init_L_size to 5 because KNN can't be fit to fewer than n_neighbors points\n",
    "random_experiment_data = perform_experiment(\n",
    "    X, y, \n",
    "    base_estimator=clone(base_clf), \n",
    "    query_strat=random_sampling,\n",
    "    n_queries=train_size,\n",
    "    init_L_size=5\n",
    ")"
   ]
  },
  {
   "cell_type": "markdown",
   "metadata": {},
   "source": [
    "### Uncertainty Sampling"
   ]
  },
  {
   "cell_type": "code",
   "execution_count": 149,
   "metadata": {},
   "outputs": [
    {
     "name": "stdout",
     "output_type": "stream",
     "text": [
      "Query 0 / 30\n",
      "Query 1 / 30\n",
      "Query 2 / 30\n",
      "Query 3 / 30\n",
      "Query 4 / 30\n",
      "Query 5 / 30\n",
      "Query 6 / 30\n",
      "Query 7 / 30\n",
      "Query 8 / 30\n",
      "Query 9 / 30\n",
      "Query 10 / 30\n",
      "Query 11 / 30\n",
      "Query 12 / 30\n",
      "Query 13 / 30\n",
      "Query 14 / 30\n",
      "Query 15 / 30\n",
      "Query 16 / 30\n",
      "Query 17 / 30\n",
      "Query 18 / 30\n",
      "Query 19 / 30\n",
      "Query 20 / 30\n",
      "Query 21 / 30\n",
      "Query 22 / 30\n",
      "Query 23 / 30\n",
      "Query 24 / 30\n",
      "Query 25 / 30\n",
      "Query 26 / 30\n",
      "Query 27 / 30\n",
      "Query 28 / 30\n",
      "Query 29 / 30\n"
     ]
    }
   ],
   "source": [
    "uncertainty_experiment_data = perform_experiment(\n",
    "    X, y,\n",
    "    base_estimator=clone(base_clf),\n",
    "    query_strat=uncertainty_sampling,\n",
    "    n_queries=train_size,\n",
    "    init_L_size=5\n",
    ")"
   ]
  },
  {
   "cell_type": "markdown",
   "metadata": {},
   "source": [
    "### Active Search"
   ]
  },
  {
   "cell_type": "code",
   "execution_count": 152,
   "metadata": {},
   "outputs": [
    {
     "name": "stdout",
     "output_type": "stream",
     "text": [
      "Query 0 / 30\n",
      "Query 1 / 30\n",
      "Query 2 / 30\n",
      "Query 3 / 30\n",
      "Query 4 / 30\n",
      "Query 5 / 30\n",
      "Query 6 / 30\n",
      "Query 7 / 30\n",
      "Query 8 / 30\n",
      "Query 9 / 30\n",
      "Query 10 / 30\n",
      "Query 11 / 30\n",
      "Query 12 / 30\n",
      "Query 13 / 30\n",
      "Query 14 / 30\n",
      "Query 15 / 30\n",
      "Query 16 / 30\n",
      "Query 17 / 30\n",
      "Query 18 / 30\n",
      "Query 19 / 30\n",
      "Query 20 / 30\n",
      "Query 21 / 30\n",
      "Query 22 / 30\n",
      "Query 23 / 30\n",
      "Query 24 / 30\n",
      "Query 25 / 30\n",
      "Query 26 / 30\n",
      "Query 27 / 30\n",
      "Query 28 / 30\n",
      "Query 29 / 30\n"
     ]
    }
   ],
   "source": [
    "as_experiment_data = perform_experiment(\n",
    "    X, y,\n",
    "    base_estimator=clone(base_clf),\n",
    "    query_strat=active_search,\n",
    "    n_queries=train_size,\n",
    "    init_L_size=5\n",
    ")"
   ]
  },
  {
   "cell_type": "markdown",
   "metadata": {},
   "source": [
    "# Compare"
   ]
  },
  {
   "cell_type": "code",
   "execution_count": 155,
   "metadata": {},
   "outputs": [
    {
     "data": {
      "text/plain": [
       "<matplotlib.legend.Legend at 0x110071eb8>"
      ]
     },
     "execution_count": 155,
     "metadata": {},
     "output_type": "execute_result"
    },
    {
     "data": {
      "image/png": "[encoded data removed]",
      "text/plain": [
       "<Figure size 432x288 with 1 Axes>"
      ]
     },
     "metadata": {},
     "output_type": "display_data"
    }
   ],
   "source": [
    "plt.plot(np.arange(train_size), random_experiment_data[\"accuracies\"], label=\"Random\")\n",
    "plt.plot(np.arange(train_size), uncertainty_experiment_data[\"accuracies\"], label=\"Uncertainty\")\n",
    "plt.plot(np.arange(train_size), as_experiment_data[\"accuracies\"], label=\"AS\")\n",
    "\n",
    "plt.title(\"Accuracy on Test Set vs Num Queries\")\n",
    "plt.legend()"
   ]
  },
  {
   "cell_type": "code",
   "execution_count": 154,
   "metadata": {},
   "outputs": [
    {
     "data": {
      "text/plain": [
       "<matplotlib.legend.Legend at 0x11010cda0>"
      ]
     },
     "execution_count": 154,
     "metadata": {},
     "output_type": "execute_result"
    },
    {
     "data": {
      "image/png": "[encoded data removed]",
      "text/plain": [
       "<Figure size 432x288 with 1 Axes>"
      ]
     },
     "metadata": {},
     "output_type": "display_data"
    }
   ],
   "source": [
    "plt.plot(np.arange(train_size), random_experiment_data[\"history\"], label=\"Random\")\n",
    "plt.plot(np.arange(train_size), uncertainty_experiment_data[\"history\"], label=\"Uncertainty\")\n",
    "plt.plot(np.arange(train_size), as_experiment_data[\"history\"], label=\"AS\")\n",
    "\n",
    "plt.title(\"Number of 2's f\")\n",
    "plt.legend()"
   ]
  },
  {
   "cell_type": "code",
   "execution_count": null,
   "metadata": {},
   "outputs": [],
   "source": []
  }
 ],
 "metadata": {
  "kernelspec": {
   "display_name": "venv",
   "language": "python",
   "name": "venv"
  },
  "language_info": {
   "codemirror_mode": {
    "name": "ipython",
    "version": 3
   },
   "file_extension": ".py",
   "mimetype": "text/x-python",
   "name": "python",
   "nbconvert_exporter": "python",
   "pygments_lexer": "ipython3",
   "version": "3.6.1"
  }
 },
 "nbformat": 4,
 "nbformat_minor": 2
}
